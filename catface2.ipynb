{
 "cells": [
  {
   "attachments": {},
   "cell_type": "markdown",
   "metadata": {},
   "source": [
    "Cat Face Detection"
   ]
  },
  {
   "cell_type": "code",
   "execution_count": 6,
   "metadata": {},
   "outputs": [],
   "source": [
    "import cv2\n",
    "\n",
    "import numpy as np\n",
    "\n",
    "\n",
    "face_cascade=cv2.CascadeClassifier(r\"C:\\Users\\hp\\OneDrive\\Desktop\\computer_vision\\open_cv\\catface_detection\\haar-cascade-files-master\\haarcascade_frontalcatface.xml\")\n",
    "#reading the image\n",
    "\n",
    "\n",
    "img=cv2.imread(r\"C:\\Users\\hp\\OneDrive\\Desktop\\computer_vision\\open_cv\\catface_detection\\cat5.jpg\")\n",
    "\n",
    "# converting the image to grey for more accuracy\n",
    "\n",
    "\n",
    "\n",
    "gray=cv2.cvtColor(img,cv2.COLOR_BGR2GRAY)\n",
    "\n",
    "faces=face_cascade.detectMultiScale(gray,scaleFactor=1.01,minNeighbors=5,minSize=(75,75))# scale factor is used to improve the\n",
    "#accuracy of features.it can never be 1 or less than 1\n",
    "\n",
    "#print(type(faces))\n",
    "#print(faces)\n"
   ]
  },
  {
   "cell_type": "code",
   "execution_count": 7,
   "metadata": {},
   "outputs": [
    {
     "data": {
      "text/plain": [
       "-1"
      ]
     },
     "execution_count": 7,
     "metadata": {},
     "output_type": "execute_result"
    }
   ],
   "source": [
    "for x,y,w,h in faces:\n",
    "\tcv2.rectangle(img,(x,y),(x+w,y+h),(0,255,0),3)\n",
    "\tcv2.putText(img,\"Cat\",(x,y-10),cv2.FONT_HERSHEY_DUPLEX,0.7,(255,0,0),3)\n",
    "\n",
    "    \n",
    "\n",
    "\n",
    "\n",
    "\n",
    "cv2.imshow(\"cat face\",img)\n",
    "cv2.putText\n",
    "cv2.waitKey()"
   ]
  }
 ],
 "metadata": {
  "kernelspec": {
   "display_name": "Python 3",
   "language": "python",
   "name": "python3"
  },
  "language_info": {
   "codemirror_mode": {
    "name": "ipython",
    "version": 3
   },
   "file_extension": ".py",
   "mimetype": "text/x-python",
   "name": "python",
   "nbconvert_exporter": "python",
   "pygments_lexer": "ipython3",
   "version": "3.10.6"
  },
  "orig_nbformat": 4,
  "vscode": {
   "interpreter": {
    "hash": "63963b3f4c440940f0b94a3100916033a226cb4f45979123153792d60aa56d6a"
   }
  }
 },
 "nbformat": 4,
 "nbformat_minor": 2
}
